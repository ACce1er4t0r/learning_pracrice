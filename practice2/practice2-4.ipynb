{
 "cells": [
  {
   "cell_type": "code",
   "execution_count": 1,
   "metadata": {
    "collapsed": true
   },
   "outputs": [],
   "source": [
    "import tensorflow as tf\n",
    "import numpy as np"
   ]
  },
  {
   "cell_type": "code",
   "execution_count": 5,
   "metadata": {},
   "outputs": [
    {
     "name": "stdout",
     "output_type": "stream",
     "text": [
      "0 [0.42379123, 0.73819065]\n",
      "20 [1.6930221, 1.1259822]\n",
      "40 [2.2193987, 0.87387305]\n",
      "60 [2.5337803, 0.7232983]\n",
      "80 [2.7215471, 0.6333665]\n",
      "100 [2.8336923, 0.579654]\n",
      "120 [2.9006717, 0.54757386]\n",
      "140 [2.9406757, 0.5284137]\n",
      "160 [2.9645681, 0.51697034]\n",
      "180 [2.9788384, 0.5101355]\n",
      "200 [2.987361, 0.50605357]\n"
     ]
    }
   ],
   "source": [
    "#Create 100 random dot\n",
    "x_data = np.random.rand(100)\n",
    "y_data = x_data * 3 +0.5\n",
    "\n",
    "#Constructing a linear model\n",
    "b = tf.Variable(0.)\n",
    "k = tf.Variable(0.)\n",
    "y = k * x_data + b\n",
    "\n",
    "#Quadratic cost function\n",
    "loss = tf.reduce_mean(tf.square(y_data - y))\n",
    "\n",
    "#define a gradient descent method as as a training optimizer\n",
    "optimizer = tf.train.GradientDescentOptimizer(0.2)\n",
    "\n",
    "#Minimum cost function\n",
    "train = optimizer.minimize(loss)\n",
    "\n",
    "#Initialize variables\n",
    "init  = tf.global_variables_initializer()\n",
    "\n",
    "with tf.Session() as sess:\n",
    "    sess.run(init)\n",
    "    for step in range(201):\n",
    "        sess.run(train)\n",
    "        if step % 20 == 0:\n",
    "            print(step, sess.run([k, b]))"
   ]
  }
 ],
 "metadata": {
  "kernelspec": {
   "display_name": "Python 3",
   "language": "python",
   "name": "python3"
  },
  "language_info": {
   "codemirror_mode": {
    "name": "ipython",
    "version": 3
   },
   "file_extension": ".py",
   "mimetype": "text/x-python",
   "name": "python",
   "nbconvert_exporter": "python",
   "pygments_lexer": "ipython3",
   "version": "3.6.7"
  }
 },
 "nbformat": 4,
 "nbformat_minor": 2
}
