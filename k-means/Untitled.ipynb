{
 "cells": [
  {
   "cell_type": "code",
   "execution_count": 24,
   "metadata": {
    "collapsed": true
   },
   "outputs": [],
   "source": [
    "import numpy as np\n",
    "from numpy import *\n",
    "import matplotlib.pyplot as plt\n",
    "import math"
   ]
  },
  {
   "cell_type": "code",
   "execution_count": 25,
   "metadata": {
    "collapsed": true
   },
   "outputs": [],
   "source": [
    "def get_dist(X1, X2):\n",
    "    N = shape(X1)[1]\n",
    "    dist = 0\n",
    "\n",
    "    for u in range(N):\n",
    "        dist += abs(float(X1[0, u] - X2[0, u])) ** 2\n",
    "\n",
    "    return sqrt(dist)"
   ]
  },
  {
   "cell_type": "code",
   "execution_count": 26,
   "metadata": {
    "collapsed": true
   },
   "outputs": [],
   "source": [
    "def mat_compare(x1, x2):\n",
    "    n = shape(x1)[1]\n",
    "    equal = True\n",
    "\n",
    "    for i in range(n):\n",
    "        if(x1[0, i] != x2[0, i]):\n",
    "            equal = False\n",
    "    return equal"
   ]
  },
  {
   "cell_type": "code",
   "execution_count": 27,
   "metadata": {
    "collapsed": true
   },
   "outputs": [],
   "source": [
    "#k均值聚类算法\n",
    "#输入数据：X是输入的训练数据矩阵，每一列是一簇\n",
    "#输入数据：K是要分的类数量\n",
    "#返回数据：分好类的列表\n",
    "def k_means(X_arr, K, iterator_counts):\n",
    "    X = mat(X_arr)\n",
    "    m,n = shape(X)\n",
    "    miu = mat(zeros((K, n)))\n",
    "    update_flag_mat = mat(zeros((1, K)))\n",
    "    C = []\n",
    "    cnt = 0\n",
    "\n",
    "    #随机选取三个值作为均值向量\n",
    "    miu[0, :] = X[5, :]\n",
    "    miu[1, :] = X[11, :]\n",
    "    miu[2, :] = X[26, :]\n",
    "    lamda = mat(zeros((m, 1)))\n",
    "\n",
    "    for i in range(K):\n",
    "        C.append([[0.0, 0.0]])\n",
    "    \n",
    "    while(True):\n",
    "        d = mat(zeros((m, K)))\n",
    "        for j in range(m):\n",
    "            for k in range(K):\n",
    "                d[j, k] = get_dist(X[j, :], miu[k, :])\n",
    "            lamda[j, 0] = argmin(d[j, :])\n",
    "            mat_data = []\n",
    "            for i in range(n):\n",
    "                mat_data.append(float(X[j, i]))\n",
    "            index = int(lamda[j, 0])\n",
    "            (C[index]).append([float(X[j, 0]), float(X[j, 1])])\n",
    "            if(update_flag_mat[0, index] == 0):\n",
    "                update_flag_mat[0, index] = 1\n",
    "                del C[index][0]\n",
    "        update_flag = False\n",
    "        for i in range(K):\n",
    "            new_miu = mat(zeros((1, K)))\n",
    "            Ci = mat(array(C[i]))   \n",
    "            new_miu = mean(Ci, axis = 0)  \n",
    "            if(mat_compare(new_miu, miu[i, :]) == False):\n",
    "                update_flag = True\n",
    "                for j in range(n):\n",
    "                    miu[i, j] = new_miu[0, j]\n",
    "        cnt += 1\n",
    "        if(cnt >= iterator_counts):\n",
    "            break\n",
    "        if(update_flag == False):\n",
    "            print(\"cnt = \", cnt)\n",
    "            #break\n",
    "        else:\n",
    "            C.clear()\n",
    "            update_flag_mat[0, :] = 0\n",
    "            for i in range(K):\n",
    "                C.append([[0.0, 0.0]])\n",
    "    return C"
   ]
  },
  {
   "cell_type": "code",
   "execution_count": 28,
   "metadata": {
    "collapsed": true
   },
   "outputs": [],
   "source": [
    "def load_data_set(file_name):\n",
    "    X = []\n",
    "\n",
    "    fd = open(file_name)\n",
    "    for line in fd.readlines():\n",
    "        line_data = line.strip().split()\n",
    "        X.append([float(line_data[0]), float(line_data[1])])\n",
    "    return np.array(X)"
   ]
  },
  {
   "cell_type": "code",
   "execution_count": 58,
   "metadata": {
    "collapsed": true
   },
   "outputs": [],
   "source": [
    "def show_experiment_plot(C):\n",
    "    length = len(C)\n",
    "    color = \"rygcbmk\"\n",
    "    dot_style = \"o\"\n",
    "    for i in range(length):\n",
    "        dot = dot_style + color[i]\n",
    "        D = mat(array(C[i]))\n",
    "        plt.plot(D[:, 0], D[:, 1], dot)\n",
    "        \n",
    "    plt.xlabel(\"X1\")\n",
    "    plt.ylabel(\"X2\")\n",
    "    plt.show()"
   ]
  },
  {
   "cell_type": "code",
   "execution_count": 68,
   "metadata": {},
   "outputs": [
    {
     "name": "stdout",
     "output_type": "stream",
     "text": [
      "cnt =  2\n",
      "cnt =  5\n"
     ]
    },
    {
     "data": {
      "image/png": "[encoded data removed]",
      "text/plain": [
       "<Figure size 432x288 with 1 Axes>"
      ]
     },
     "metadata": {},
     "output_type": "display_data"
    }
   ],
   "source": [
    "X = load_data_set(\"data_set.txt\")\n",
    "C = k_means(X, 3, 6)\n",
    "\n",
    "show_experiment_plot(C)"
   ]
  },
  {
   "cell_type": "code",
   "execution_count": 123,
   "metadata": {},
   "outputs": [],
   "source": []
  },
  {
   "cell_type": "code",
   "execution_count": 124,
   "metadata": {},
   "outputs": [
    {
     "name": "stderr",
     "output_type": "stream",
     "text": [
      "C:\\Users\\77699\\Anaconda3\\envs\\tensorflow\\lib\\site-packages\\ipykernel_launcher.py:65: RuntimeWarning: invalid value encountered in double_scalars\n"
     ]
    }
   ],
   "source": []
  },
  {
   "cell_type": "code",
   "execution_count": 119,
   "metadata": {},
   "outputs": [
    {
     "data": {
      "text/plain": [
       "3"
      ]
     },
     "execution_count": 119,
     "metadata": {},
     "output_type": "execute_result"
    }
   ],
   "source": []
  },
  {
   "cell_type": "code",
   "execution_count": null,
   "metadata": {
    "collapsed": true
   },
   "outputs": [],
   "source": []
  }
 ],
 "metadata": {
  "kernelspec": {
   "display_name": "Python 3",
   "language": "python",
   "name": "python3"
  },
  "language_info": {
   "codemirror_mode": {
    "name": "ipython",
    "version": 3
   },
   "file_extension": ".py",
   "mimetype": "text/x-python",
   "name": "python",
   "nbconvert_exporter": "python",
   "pygments_lexer": "ipython3",
   "version": "3.6.7"
  }
 },
 "nbformat": 4,
 "nbformat_minor": 2
}
