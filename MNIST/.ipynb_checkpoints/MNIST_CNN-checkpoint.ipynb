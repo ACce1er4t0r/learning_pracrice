{
 "cells": [
  {
   "cell_type": "code",
   "execution_count": 1,
   "metadata": {
    "collapsed": true
   },
   "outputs": [],
   "source": [
    "from tensorflow.examples.tutorials.mnist import input_data\n",
    "import tensorflow as tf"
   ]
  },
  {
   "cell_type": "code",
   "execution_count": 3,
   "metadata": {},
   "outputs": [
    {
     "name": "stdout",
     "output_type": "stream",
     "text": [
      "Extracting data/train-images-idx3-ubyte.gz\n",
      "Extracting data/train-labels-idx1-ubyte.gz\n",
      "Extracting data/t10k-images-idx3-ubyte.gz\n",
      "Extracting data/t10k-labels-idx1-ubyte.gz\n"
     ]
    }
   ],
   "source": [
    "mnist = input_data.read_data_sets(\"data/\",one_hot=True)"
   ]
  },
  {
   "cell_type": "code",
   "execution_count": null,
   "metadata": {
    "collapsed": true
   },
   "outputs": [],
   "source": [
    "'''\n",
    "weight_variable     权重变量\n",
    "@:param shape       形状\n",
    "@:return Variable   返回变量\n",
    "通过给定形状，标准差的正态分布生成一个随机值\n",
    "由于此返回结果需要后续不断变更，此处返回类型为tf.Variable\n",
    "'''\n",
    "def weight_variable(shape):\n",
    "    ############################################################################################\n",
    "    # tf.truncated_normal 截尾正态分布\n",
    "    # 参数 shape 形状           是一个Tensor或是python数组，用来表示正态分布有几维和对应维有几个特征，比如：[3, 4]表示有两维，第一维有3个特征，第二维有4个特征\n",
    "    # 参数 stddev 标准差         默认是1\n",
    "    # 返回 指定形状               指定标准差的正态分布中的一个随机值生成的一个Tensor\n",
    "    ############################################################################################\n",
    "    initial = tf.truncated_normal(shape,stddev=0.1)\n",
    "    ############################################################################################\n",
    "    # tf.Variable 变量定义  变量是构造流程图的基本元素\n",
    "    # 参数 initial_value 值            任何类型的值都可以\n",
    "    # 返回 tf.Variable\n",
    "    ############################################################################################\n",
    "    return tf.Variable(initial)"
   ]
  },
  {
   "cell_type": "code",
   "execution_count": null,
   "metadata": {
    "collapsed": true
   },
   "outputs": [],
   "source": [
    "'''\n",
    "bias_variable       偏移变量\n",
    "@:param shape       形状\n",
    "@:return Variable   返回变量\n",
    "'''\n",
    "def bias_variable(shape):\n",
    "    ############################################################################################\n",
    "    # tf.constant 常量定义\n",
    "    # 参数 value 值            默认返回当前值，如果shape有定义的话，就是一个由此值形成的多维数组\n",
    "    # 参数 shape 形状           默认是None\n",
    "    # 返回 Tensor\n",
    "    ############################################################################################\n",
    "    initial = tf.constant(0.1,shape=shape)\n",
    "    return tf.Variable(initial)"
   ]
  },
  {
   "cell_type": "code",
   "execution_count": null,
   "metadata": {
    "collapsed": true
   },
   "outputs": [],
   "source": []
  }
 ],
 "metadata": {
  "kernelspec": {
   "display_name": "Python 3",
   "language": "python",
   "name": "python3"
  },
  "language_info": {
   "codemirror_mode": {
    "name": "ipython",
    "version": 3
   },
   "file_extension": ".py",
   "mimetype": "text/x-python",
   "name": "python",
   "nbconvert_exporter": "python",
   "pygments_lexer": "ipython3",
   "version": "3.6.7"
  }
 },
 "nbformat": 4,
 "nbformat_minor": 2
}
